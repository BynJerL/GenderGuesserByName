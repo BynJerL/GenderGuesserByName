{
 "cells": [
  {
   "cell_type": "code",
   "execution_count": 1,
   "metadata": {},
   "outputs": [
    {
     "name": "stdout",
     "output_type": "stream",
     "text": [
      "Tokenizer saved and data preprocessing complete!\n",
      "Training set: (117815, 25), Validation set: (14727, 25), Test set: (14727, 25)\n"
     ]
    }
   ],
   "source": [
    "from sklearn.model_selection import train_test_split\n",
    "from tensorflow.keras.preprocessing.text import Tokenizer\n",
    "from tensorflow.keras.preprocessing.sequence import pad_sequences\n",
    "from sklearn.preprocessing import LabelEncoder\n",
    "import pickle\n",
    "import pandas as pd\n",
    "\n",
    "# Load your dataset\n",
    "data = pd.read_csv(\"name_gender_dataset.csv\")\n",
    "\n",
    "# Use relevant columns\n",
    "data = data[[\"Name\", \"Gender\"]]\n",
    "\n",
    "# Encode Gender (Female: 0, Male: 1)\n",
    "label_encoder = LabelEncoder()\n",
    "data[\"Gender\"] = label_encoder.fit_transform(data[\"Gender\"])  # Female -> 0, Male -> 1\n",
    "\n",
    "# Tokenize Names at character level\n",
    "tokenizer = Tokenizer(char_level=True)\n",
    "tokenizer.fit_on_texts(data[\"Name\"])\n",
    "sequences = tokenizer.texts_to_sequences(data[\"Name\"])\n",
    "\n",
    "# Pad sequences to ensure uniform length\n",
    "max_length = max(len(name) for name in data[\"Name\"])  # Maximum name length in the dataset\n",
    "padded_sequences = pad_sequences(sequences, maxlen=max_length, padding='post')\n",
    "\n",
    "# Save tokenizer for later use in the CLI app\n",
    "with open(\"tokenizer.pkl\", \"wb\") as file:\n",
    "    pickle.dump(tokenizer, file)\n",
    "\n",
    "# Split the data into training, validation, and test sets (80-10-10 split)\n",
    "X_train, X_temp, y_train, y_temp = train_test_split(\n",
    "    padded_sequences, data[\"Gender\"], test_size=0.2, random_state=42, stratify=data[\"Gender\"]\n",
    ")\n",
    "X_val, X_test, y_val, y_test = train_test_split(\n",
    "    X_temp, y_temp, test_size=0.5, random_state=42, stratify=y_temp\n",
    ")\n",
    "\n",
    "print(\"Tokenizer saved and data preprocessing complete!\")\n",
    "print(f\"Training set: {X_train.shape}, Validation set: {X_val.shape}, Test set: {X_test.shape}\")\n"
   ]
  },
  {
   "cell_type": "code",
   "execution_count": 2,
   "metadata": {},
   "outputs": [
    {
     "name": "stderr",
     "output_type": "stream",
     "text": [
      "C:\\Users\\USER\\AppData\\Roaming\\Python\\Python311\\site-packages\\keras\\src\\layers\\core\\embedding.py:90: UserWarning: Argument `input_length` is deprecated. Just remove it.\n",
      "  warnings.warn(\n"
     ]
    },
    {
     "name": "stdout",
     "output_type": "stream",
     "text": [
      "Epoch 1/10\n",
      "\u001b[1m3682/3682\u001b[0m \u001b[32m━━━━━━━━━━━━━━━━━━━━\u001b[0m\u001b[37m\u001b[0m \u001b[1m55s\u001b[0m 14ms/step - accuracy: 0.7005 - loss: 0.5688 - val_accuracy: 0.7788 - val_loss: 0.4806\n",
      "Epoch 2/10\n",
      "\u001b[1m3682/3682\u001b[0m \u001b[32m━━━━━━━━━━━━━━━━━━━━\u001b[0m\u001b[37m\u001b[0m \u001b[1m94s\u001b[0m 17ms/step - accuracy: 0.7770 - loss: 0.4789 - val_accuracy: 0.7849 - val_loss: 0.4662\n",
      "Epoch 3/10\n",
      "\u001b[1m3682/3682\u001b[0m \u001b[32m━━━━━━━━━━━━━━━━━━━━\u001b[0m\u001b[37m\u001b[0m \u001b[1m64s\u001b[0m 17ms/step - accuracy: 0.7794 - loss: 0.4735 - val_accuracy: 0.7856 - val_loss: 0.4646\n",
      "Epoch 4/10\n",
      "\u001b[1m3682/3682\u001b[0m \u001b[32m━━━━━━━━━━━━━━━━━━━━\u001b[0m\u001b[37m\u001b[0m \u001b[1m73s\u001b[0m 15ms/step - accuracy: 0.7831 - loss: 0.4654 - val_accuracy: 0.7900 - val_loss: 0.4596\n",
      "Epoch 5/10\n",
      "\u001b[1m3682/3682\u001b[0m \u001b[32m━━━━━━━━━━━━━━━━━━━━\u001b[0m\u001b[37m\u001b[0m \u001b[1m57s\u001b[0m 16ms/step - accuracy: 0.7849 - loss: 0.4620 - val_accuracy: 0.7919 - val_loss: 0.4521\n",
      "Epoch 6/10\n",
      "\u001b[1m3682/3682\u001b[0m \u001b[32m━━━━━━━━━━━━━━━━━━━━\u001b[0m\u001b[37m\u001b[0m \u001b[1m53s\u001b[0m 14ms/step - accuracy: 0.7883 - loss: 0.4546 - val_accuracy: 0.7955 - val_loss: 0.4452\n",
      "Epoch 7/10\n",
      "\u001b[1m3682/3682\u001b[0m \u001b[32m━━━━━━━━━━━━━━━━━━━━\u001b[0m\u001b[37m\u001b[0m \u001b[1m54s\u001b[0m 15ms/step - accuracy: 0.7903 - loss: 0.4474 - val_accuracy: 0.7968 - val_loss: 0.4418\n",
      "Epoch 8/10\n",
      "\u001b[1m3682/3682\u001b[0m \u001b[32m━━━━━━━━━━━━━━━━━━━━\u001b[0m\u001b[37m\u001b[0m \u001b[1m53s\u001b[0m 14ms/step - accuracy: 0.7938 - loss: 0.4448 - val_accuracy: 0.7991 - val_loss: 0.4372\n",
      "Epoch 9/10\n",
      "\u001b[1m3682/3682\u001b[0m \u001b[32m━━━━━━━━━━━━━━━━━━━━\u001b[0m\u001b[37m\u001b[0m \u001b[1m52s\u001b[0m 14ms/step - accuracy: 0.7998 - loss: 0.4354 - val_accuracy: 0.8012 - val_loss: 0.4332\n",
      "Epoch 10/10\n",
      "\u001b[1m3682/3682\u001b[0m \u001b[32m━━━━━━━━━━━━━━━━━━━━\u001b[0m\u001b[37m\u001b[0m \u001b[1m53s\u001b[0m 14ms/step - accuracy: 0.8015 - loss: 0.4307 - val_accuracy: 0.8016 - val_loss: 0.4313\n"
     ]
    },
    {
     "name": "stderr",
     "output_type": "stream",
     "text": [
      "WARNING:absl:You are saving your model as an HDF5 file via `model.save()` or `keras.saving.save_model(model)`. This file format is considered legacy. We recommend using instead the native Keras format, e.g. `model.save('my_model.keras')` or `keras.saving.save_model(model, 'my_model.keras')`. \n"
     ]
    },
    {
     "name": "stdout",
     "output_type": "stream",
     "text": [
      "Model training complete and saved!\n"
     ]
    }
   ],
   "source": [
    "from tensorflow.keras.models import Sequential\n",
    "from tensorflow.keras.layers import Embedding, LSTM, Dense, Dropout\n",
    "\n",
    "# Define model parameters\n",
    "vocab_size = len(tokenizer.word_index) + 1  # Total unique characters + 1 for padding\n",
    "embedding_dim = 16  # Size of the character embeddings\n",
    "lstm_units = 32  # Number of units in the LSTM layer\n",
    "\n",
    "# Build the model\n",
    "model = Sequential([\n",
    "    Embedding(input_dim=vocab_size, output_dim=embedding_dim, input_length=max_length),\n",
    "    LSTM(units=lstm_units, return_sequences=False),\n",
    "    Dropout(0.2),\n",
    "    Dense(16, activation='relu'),\n",
    "    Dense(1, activation='sigmoid')  # Binary classification (0: Female, 1: Male)\n",
    "])\n",
    "\n",
    "# Compile the model\n",
    "model.compile(optimizer='adam', loss='binary_crossentropy', metrics=['accuracy'])\n",
    "\n",
    "# Train the model\n",
    "history = model.fit(\n",
    "    X_train, y_train,\n",
    "    validation_data=(X_val, y_val),\n",
    "    epochs=10,  # Number of epochs\n",
    "    batch_size=32  # Size of training batches\n",
    ")\n",
    "\n",
    "# Save the model for use in the CLI app\n",
    "model.save(\"name_gender_model.h5\")\n",
    "\n",
    "print(\"Model training complete and saved!\")\n"
   ]
  },
  {
   "cell_type": "code",
   "execution_count": null,
   "metadata": {},
   "outputs": [],
   "source": []
  }
 ],
 "metadata": {
  "kernelspec": {
   "display_name": "Python 3",
   "language": "python",
   "name": "python3"
  },
  "language_info": {
   "codemirror_mode": {
    "name": "ipython",
    "version": 3
   },
   "file_extension": ".py",
   "mimetype": "text/x-python",
   "name": "python",
   "nbconvert_exporter": "python",
   "pygments_lexer": "ipython3",
   "version": "3.11.5"
  }
 },
 "nbformat": 4,
 "nbformat_minor": 2
}
